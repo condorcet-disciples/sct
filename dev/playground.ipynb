{
 "cells": [
  {
   "cell_type": "code",
   "execution_count": 13,
   "metadata": {},
   "outputs": [],
   "source": [
    "class Candidates:\n",
    "    '''\n",
    "    Instantiate the list of candidates (alternatives) for an election\n",
    "    '''\n",
    "\n",
    "    def __init__(self, names: list):\n",
    "        '''\n",
    "        transform a list of (n) names into a dictionary with keys from 0 to n.\n",
    "        '''\n",
    "        # TODO: Why do you need it as a dictionary like that?\n",
    "        self.names = {i:v for i,v in enumerate(sorted(names))}\n",
    "\n",
    "\n",
    "candidates = Candidates(['A', 'B', 'C'])"
   ]
  },
  {
   "cell_type": "code",
   "execution_count": 14,
   "metadata": {},
   "outputs": [],
   "source": [
    "import numpy as np\n",
    "\n",
    "class Agent:\n",
    "    def __init__(self, name=None, num_votes=1, prefs=None):\n",
    "        \"\"\"TODO: add docstrings\n",
    "        \n",
    "        \"\"\"\n",
    "        self.name = name\n",
    "        self.num_votes = num_votes\n",
    "        self.prefs = prefs # TODO: We don't need to init none in this case: unless we wan't this to be a way people set their preferences\n",
    "\n",
    "    def set_preferences(self, candidates: Candidates, ranking: list, by='order'):\n",
    "        \"\"\"\n",
    "        Defines the preferences of an agent given a list of candidates.\n",
    "        For now, we're not assigning these preferences to the candidates and an Agent can have only 1 set of preferences at a time.\n",
    "\n",
    "        Returns\n",
    "        __________\n",
    "        np.array\n",
    "        \"\"\"\n",
    "\n",
    "        #Make sure that the agents indicate only one vote per candidate i.e. that there are no duplicates\n",
    "        if len(ranking) != len(set(ranking)):\n",
    "            raise ValueError('Please vote for all candidates and ascribe only one vote per candidate')\n",
    "\n",
    "        if by == 'name':\n",
    "            ranking = [list(candidates.names.keys())[list(candidates.names.values()).index(r)] for r in ranking]\n",
    "\n",
    "        pref = np.zeros((len(candidates.names.values()),len(candidates.names.values())))\n",
    "        \n",
    "        for i,v in enumerate(ranking):\n",
    "            pref[i,v] = 1\n",
    "        \n",
    "        self.prefs = pref\n",
    "\n",
    "        return pref\n"
   ]
  },
  {
   "cell_type": "code",
   "execution_count": 15,
   "metadata": {},
   "outputs": [
    {
     "data": {
      "text/plain": [
       "array([[0., 0., 1.],\n",
       "       [0., 1., 0.],\n",
       "       [1., 0., 0.]])"
      ]
     },
     "execution_count": 15,
     "metadata": {},
     "output_type": "execute_result"
    }
   ],
   "source": [
    "voter1 = Agent(name='one', num_votes=1000)\n",
    "voter1.set_preferences(candidates, ranking=['A', 'B', 'C'], by='name')\n",
    "\n",
    "voter2 = Agent(name='two', num_votes=2300)\n",
    "voter2.set_preferences(candidates, ranking=['A', 'C', 'B'], by='name')\n",
    "\n",
    "voter3 = Agent(name='three', num_votes=1200)\n",
    "voter3.set_preferences(candidates, ranking=['B', 'A', 'C'], by='name')\n",
    "\n",
    "voter4 = Agent(name='four', num_votes=1800)\n",
    "voter4.set_preferences(candidates, ranking=['B', 'C', 'A'], by='name')\n",
    "\n",
    "voter5 = Agent(name='five', num_votes=2500)\n",
    "voter5.set_preferences(candidates, ranking=['C', 'A', 'B'], by='name')\n",
    "\n",
    "voter6 = Agent(name='six', num_votes=900)\n",
    "voter6.set_preferences(candidates, ranking=['C', 'B', 'A'], by='name')"
   ]
  },
  {
   "cell_type": "code",
   "execution_count": 16,
   "metadata": {},
   "outputs": [],
   "source": [
    "import numpy as np\n",
    " \n",
    "def borda(candidates: Candidates, agents: list, score_type='asymmetric'):\n",
    "    '''\n",
    "    Implementation of the Borda scoring method\n",
    "\n",
    "    Inputs:\n",
    "    candidates: Candidates object\n",
    "    agents: List of Agent objects\n",
    "\n",
    "    Returns:\n",
    "    name of winner\n",
    "    '''\n",
    "\n",
    "    vector_score = np.array(list(reversed(range(len(candidates.names.values())))))\n",
    "\n",
    "    all_prefs = [(vector_score @ agent.prefs) * agent.num_votes for agent in agents] # Creating a list of matrices of preferences from the candidates weighted by the coefficient ascribed\n",
    "\n",
    "    results = sum(all_prefs) # Summing preferences\n",
    "\n",
    "    winner_idx = np.argmax(results) # Selecting the candidate that had the best score for the first row - #TODO: Adapt for multi-winners & ties \n",
    "    winner = candidates.names[winner_idx] # Accessing the name of the winner\n",
    "\n",
    "    return winner, results"
   ]
  },
  {
   "cell_type": "code",
   "execution_count": 17,
   "metadata": {},
   "outputs": [
    {
     "name": "stdout",
     "output_type": "stream",
     "text": [
      "12.8 μs ± 456 ns per loop (mean ± std. dev. of 7 runs, 100,000 loops each)\n"
     ]
    }
   ],
   "source": [
    "%%timeit\n",
    "\n",
    "winner, results = borda(candidates, [voter1, voter2, voter3, voter4, voter5, voter6])"
   ]
  },
  {
   "cell_type": "code",
   "execution_count": null,
   "metadata": {},
   "outputs": [],
   "source": []
  }
 ],
 "metadata": {
  "kernelspec": {
   "display_name": "base",
   "language": "python",
   "name": "python3"
  },
  "language_info": {
   "codemirror_mode": {
    "name": "ipython",
    "version": 3
   },
   "file_extension": ".py",
   "mimetype": "text/x-python",
   "name": "python",
   "nbconvert_exporter": "python",
   "pygments_lexer": "ipython3",
   "version": "3.12.4"
  }
 },
 "nbformat": 4,
 "nbformat_minor": 2
}
